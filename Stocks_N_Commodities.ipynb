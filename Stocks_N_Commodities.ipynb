{
 "cells": [
  {
   "cell_type": "markdown",
   "metadata": {},
   "source": [
    "# Simple plotly graph to display a database file\n",
    "## Created from a webcrawl on yahoo financial website"
   ]
  },
  {
   "cell_type": "code",
   "execution_count": null,
   "metadata": {},
   "outputs": [],
   "source": [
    "### HTML files that di in this repository"
   ]
  },
  {
   "cell_type": "code",
   "execution_count": 81,
   "metadata": {},
   "outputs": [],
   "source": [
    "import plotly\n",
    "import plotly.graph_objs as go\n",
    "import pandas as pd\n",
    "import sqlite3"
   ]
  },
  {
   "cell_type": "code",
   "execution_count": 93,
   "metadata": {},
   "outputs": [
    {
     "data": {
      "text/html": [
       "<div>\n",
       "<style scoped>\n",
       "    .dataframe tbody tr th:only-of-type {\n",
       "        vertical-align: middle;\n",
       "    }\n",
       "\n",
       "    .dataframe tbody tr th {\n",
       "        vertical-align: top;\n",
       "    }\n",
       "\n",
       "    .dataframe thead th {\n",
       "        text-align: right;\n",
       "    }\n",
       "</style>\n",
       "<table border=\"1\" class=\"dataframe\">\n",
       "  <thead>\n",
       "    <tr style=\"text-align: right;\">\n",
       "      <th></th>\n",
       "      <th>stock_name</th>\n",
       "      <th>price</th>\n",
       "      <th>time1</th>\n",
       "    </tr>\n",
       "  </thead>\n",
       "  <tbody>\n",
       "    <tr>\n",
       "      <th>0</th>\n",
       "      <td>Nasdaq</td>\n",
       "      <td>7,809.14</td>\n",
       "      <td>2019-04-01 13:17:42</td>\n",
       "    </tr>\n",
       "    <tr>\n",
       "      <th>1</th>\n",
       "      <td>Crude</td>\n",
       "      <td>61.45</td>\n",
       "      <td>2019-04-01 13:17:42</td>\n",
       "    </tr>\n",
       "    <tr>\n",
       "      <th>2</th>\n",
       "      <td>Dow</td>\n",
       "      <td>26,185.51</td>\n",
       "      <td>2019-04-01 13:17:42</td>\n",
       "    </tr>\n",
       "    <tr>\n",
       "      <th>3</th>\n",
       "      <td>Gold</td>\n",
       "      <td>1,289.50</td>\n",
       "      <td>2019-04-01 13:17:41</td>\n",
       "    </tr>\n",
       "    <tr>\n",
       "      <th>4</th>\n",
       "      <td>S&amp;P</td>\n",
       "      <td>2,860.56</td>\n",
       "      <td>2019-04-01 13:17:42</td>\n",
       "    </tr>\n",
       "  </tbody>\n",
       "</table>\n",
       "</div>"
      ],
      "text/plain": [
       "  stock_name      price                time1\n",
       "0     Nasdaq   7,809.14  2019-04-01 13:17:42\n",
       "1      Crude      61.45  2019-04-01 13:17:42\n",
       "2        Dow  26,185.51  2019-04-01 13:17:42\n",
       "3       Gold   1,289.50  2019-04-01 13:17:41\n",
       "4        S&P   2,860.56  2019-04-01 13:17:42"
      ]
     },
     "execution_count": 93,
     "metadata": {},
     "output_type": "execute_result"
    }
   ],
   "source": [
    "conn = sqlite3.connect(\"portfoliostocks.db\")\n",
    "df = pd.read_sql_query(\"SELECT * FROM stocks_prices\", conn)\n",
    "df.head()"
   ]
  },
  {
   "cell_type": "code",
   "execution_count": 83,
   "metadata": {},
   "outputs": [],
   "source": [
    "\n",
    "df_gold = df[df[\"stock_name\"] == \"Gold\"]\n",
    "df_crude = df[df[\"stock_name\"] == \"Crude\"]\n",
    "df_nasdaq = df[df[\"stock_name\"] == \"Nasdaq\"]\n",
    "df_dow = df[df[\"stock_name\"] == \"Dow\"]\n",
    "df_sNp = df[df[\"stock_name\"] == \"S&P\"]\n"
   ]
  },
  {
   "cell_type": "code",
   "execution_count": 92,
   "metadata": {},
   "outputs": [
    {
     "data": {
      "text/plain": [
       "'file://C:\\\\Users\\\\beboo\\\\PythonLearning\\\\Request\\\\stock_commodities.html'"
      ]
     },
     "execution_count": 92,
     "metadata": {},
     "output_type": "execute_result"
    }
   ],
   "source": [
    "gold_cost = go.Scatter(\n",
    "\tx = df_gold.time1,\n",
    "\ty = df_gold[\"price\"],\n",
    "\tname = 'Gold Price',\n",
    "\tline = dict(color = '#17BECF'),\n",
    "\topacity = .8)\n",
    "crude_cost = go.Scatter(\n",
    "\tx = df_crude.time1,\n",
    "\ty = df_crude[\"price\"],\n",
    "\tname = 'Crude Price',\n",
    "\tline = dict(color = '#117F7F'),\n",
    "\topacity = .8)\n",
    "sNp_cost = go.Scatter(\n",
    "\tx = df_sNp.time1,\n",
    "\ty = df_sNp[\"price\"],\n",
    "\tname = 'S&P Price',\n",
    "\tline = dict(color = '#A7BECF'),\n",
    "\topacity = .8)\n",
    "nasdaq_cost = go.Scatter(\n",
    "\tx = df_nasdaq.time1,\n",
    "\ty = df_nasdaq[\"price\"],\n",
    "\tname = 'Nasdaq Price',\n",
    "\tline = dict(color = '#7A5F7F'),\n",
    "\topacity = .8)\n",
    "\n",
    "dow_cost = go.Scatter(\n",
    "\tx = df_nasdaq.time1,\n",
    "\ty = df_dow[\"price\"],\n",
    "\tname = 'Dow Price',\n",
    "\tline = dict(color = '#11FFBB'),\n",
    "\topacity = .8)\n",
    "\n",
    "\n",
    "\n",
    "data = [gold_cost, crude_cost, nasdaq_cost, sNp_cost, dow_cost]\n",
    "\n",
    "layout = go.Layout(dict(\n",
    "\ttitle = \"Stocks and Commodities\",\n",
    "\txaxis = dict(\n",
    "\t\trangeselector = dict(\n",
    "\t\t\tbuttons = list([\n",
    "\t\t\t\tdict(count = 1,\n",
    "\t\t\t\t\tlabel = '1m',\n",
    "\t\t\t\t\tstep = 'minute', \n",
    "\t\t\t\t\tstepmode = 'backward'),\n",
    "\t\t\t\tdict(count = 5,\n",
    "\t\t\t\t\tlabel = '5m',\n",
    "\t\t\t\t\tstep = \"minute\",\n",
    "\t\t\t\t\tstepmode= 'backward'),\n",
    "\t\t\t\tdict(step = \"all\")\n",
    "\t\t\t\t])\n",
    "\t\t\t),\n",
    "\t\trangeslider = dict(visible = True),\n",
    "\t\t\ttype = 'date'\n",
    "\t\t\t)\n",
    "\t))\n",
    "\n",
    "fig = dict(data = data, layout = layout)\n",
    "py.offline.plot(fig, filename= \"stock_commodities.html\")"
   ]
  },
  {
   "cell_type": "code",
   "execution_count": 85,
   "metadata": {},
   "outputs": [],
   "source": [
    "def stringToFloat(df_col) :\n",
    "    df = pd.concat([df_col.str.split()\n",
    "                       .str[0]\n",
    "                       .str.replace(',','').astype(float)], axis=0)\n",
    "    return df"
   ]
  },
  {
   "cell_type": "code",
   "execution_count": 94,
   "metadata": {},
   "outputs": [],
   "source": [
    "from sklearn import preprocessing\n",
    "\n",
    "x_gold = stringToFloat(df_gold[\"price\"])\n",
    "x_crude = df_crude[\"price\"].astype(np.float64)\n",
    "\n",
    "x_sNp =  stringToFloat(df_sNp[\"price\"])\n",
    "x_nasdaq =  stringToFloat(df_nasdaq[\"price\"])\n",
    "x_dow =  stringToFloat(df_dow[\"price\"])"
   ]
  },
  {
   "cell_type": "markdown",
   "metadata": {},
   "source": [
    "# Same graph but scaled just to see gains and loses"
   ]
  },
  {
   "cell_type": "code",
   "execution_count": 87,
   "metadata": {},
   "outputs": [],
   "source": [
    "\n",
    "min_max_scaler = preprocessing.MinMaxScaler()\n",
    "x_gold_scaled = min_max_scaler.fit_transform(x_gold.values.reshape(-1, 1))\n",
    "x_crude_scaled = min_max_scaler.fit_transform(x_crude.values.reshape(-1, 1))\n",
    "x_sNp_scaled = min_max_scaler.fit_transform(x_sNp.values.reshape(-1, 1))\n",
    "x_nasdaq_scaled = min_max_scaler.fit_transform(x_nasdaq.values.reshape(-1, 1))\n",
    "x_dow_scaled = min_max_scaler.fit_transform(x_dow.values.reshape(-1, 1))"
   ]
  },
  {
   "cell_type": "code",
   "execution_count": 88,
   "metadata": {},
   "outputs": [],
   "source": [
    "nasdaq_scaled = pd.Series(x_nasdaq_scaled.reshape(100))\n",
    "gold_scaled = pd.Series(x_gold_scaled.reshape(100))\n",
    "crude_scaled = pd.Series(x_crude_scaled.reshape(100))\n",
    "sNp_scaled = pd.Series(x_sNp_scaled.reshape(100))\n",
    "dow_scaled = pd.Series(x_dow_scaled.reshape(100))"
   ]
  },
  {
   "cell_type": "code",
   "execution_count": 91,
   "metadata": {},
   "outputs": [
    {
     "data": {
      "text/plain": [
       "'file://C:\\\\Users\\\\beboo\\\\PythonLearning\\\\Request\\\\scaled_stocks_commodities.html'"
      ]
     },
     "execution_count": 91,
     "metadata": {},
     "output_type": "execute_result"
    }
   ],
   "source": [
    "gold_cost = go.Scatter(\n",
    "\tx = df_gold.time1,\n",
    "\ty = gold_scaled,\n",
    "\tname = 'Gold Price',\n",
    "\tline = dict(color = '#11BE11'),\n",
    "\topacity = .8)\n",
    "crude_cost = go.Scatter(\n",
    "\tx = df_crude.time1,\n",
    "\ty = crude_scaled,\n",
    "\tname = 'Crude Price',\n",
    "\tline = dict(color = '#AB117F'),\n",
    "\topacity = .8)\n",
    "sNp_cost = go.Scatter(\n",
    "\tx = df_sNp.time1,\n",
    "\ty = sNp_scaled ,\n",
    "\tname = 'S&P Price',\n",
    "\tline = dict(color = '#11BECF'),\n",
    "\topacity = .8)\n",
    "nasdaq_cost = go.Scatter(\n",
    "\tx = df_nasdaq.time1,\n",
    "\ty = nasdaq_scaled,\n",
    "\tname = 'Nasdaq Price',\n",
    "\tline = dict(color = '#7A5F7F'),\n",
    "\topacity = .8)\n",
    "\n",
    "\n",
    "\n",
    "data = [gold_cost, crude_cost, nasdaq_cost, sNp_cost]\n",
    "\n",
    "layout = go.Layout(dict(\n",
    "\ttitle = \"Stocks and Commodities\",\n",
    "\txaxis = dict(\n",
    "\t\trangeselector = dict(\n",
    "\t\t\tbuttons = list([\n",
    "\t\t\t\tdict(count = 1,\n",
    "\t\t\t\t\tlabel = '1m',\n",
    "\t\t\t\t\tstep = 'minute', \n",
    "\t\t\t\t\tstepmode = 'backward'),\n",
    "\t\t\t\tdict(count = 5,\n",
    "\t\t\t\t\tlabel = '5m',\n",
    "\t\t\t\t\tstep = \"minute\",\n",
    "\t\t\t\t\tstepmode= 'backward'),\n",
    "\t\t\t\tdict(step = \"all\")\n",
    "\t\t\t\t])\n",
    "\t\t\t),\n",
    "\t\trangeslider = dict(visible = True),\n",
    "\t\t\ttype = 'date'\n",
    "\t\t\t)\n",
    "\t))\n",
    "\n",
    "fig = dict(data = data, layout = layout)\n",
    "py.offline.plot(fig ,filename= \"scaled_stocks_commodities.html\")"
   ]
  },
  {
   "cell_type": "code",
   "execution_count": null,
   "metadata": {},
   "outputs": [],
   "source": []
  }
 ],
 "metadata": {
  "kernelspec": {
   "display_name": "Python 3",
   "language": "python",
   "name": "python3"
  },
  "language_info": {
   "codemirror_mode": {
    "name": "ipython",
    "version": 3
   },
   "file_extension": ".py",
   "mimetype": "text/x-python",
   "name": "python",
   "nbconvert_exporter": "python",
   "pygments_lexer": "ipython3",
   "version": "3.7.0"
  }
 },
 "nbformat": 4,
 "nbformat_minor": 2
}
